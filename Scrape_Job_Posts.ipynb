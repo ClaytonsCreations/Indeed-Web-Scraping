{
 "cells": [
  {
   "cell_type": "code",
   "execution_count": 1,
   "id": "8a38eed5",
   "metadata": {},
   "outputs": [],
   "source": [
    "import csv\n",
    "from datetime import datetime\n",
    "import requests\n",
    "from bs4 import BeautifulSoup"
   ]
  },
  {
   "cell_type": "code",
   "execution_count": 2,
   "id": "96423fb2",
   "metadata": {},
   "outputs": [],
   "source": [
    "def get_url (location):\n",
    "    template = 'https://www.indeed.com/jobs?q&l={}'\n",
    "    url = template.format(location)\n",
    "    return url"
   ]
  },
  {
   "cell_type": "code",
   "execution_count": 3,
   "id": "b7ccdf6f",
   "metadata": {},
   "outputs": [
    {
     "name": "stdout",
     "output_type": "stream",
     "text": [
      "https://www.indeed.com/jobs?q&l=catalina+island\n"
     ]
    }
   ],
   "source": [
    "url = get_url(\"catalina+island\")\n",
    "print(url)"
   ]
  },
  {
   "cell_type": "code",
   "execution_count": 4,
   "id": "d298ff8c",
   "metadata": {},
   "outputs": [],
   "source": [
    "response = requests.get(url)"
   ]
  },
  {
   "cell_type": "code",
   "execution_count": 5,
   "id": "41463374",
   "metadata": {},
   "outputs": [
    {
     "data": {
      "text/plain": [
       "<Response [200]>"
      ]
     },
     "execution_count": 5,
     "metadata": {},
     "output_type": "execute_result"
    }
   ],
   "source": [
    "response"
   ]
  },
  {
   "cell_type": "code",
   "execution_count": 6,
   "id": "39980fc8",
   "metadata": {},
   "outputs": [],
   "source": [
    "soup = BeautifulSoup(response.text, 'html.parser')"
   ]
  },
  {
   "cell_type": "code",
   "execution_count": 7,
   "id": "bf277a8d",
   "metadata": {},
   "outputs": [],
   "source": [
    "cards = soup.find_all('div', 'job_seen_beacon')"
   ]
  },
  {
   "cell_type": "code",
   "execution_count": 8,
   "id": "964b38a8",
   "metadata": {},
   "outputs": [
    {
     "data": {
      "text/plain": [
       "15"
      ]
     },
     "execution_count": 8,
     "metadata": {},
     "output_type": "execute_result"
    }
   ],
   "source": [
    "len(cards)"
   ]
  },
  {
   "cell_type": "code",
   "execution_count": 9,
   "id": "8962398b",
   "metadata": {},
   "outputs": [],
   "source": [
    "card = cards[4]"
   ]
  },
  {
   "cell_type": "code",
   "execution_count": 10,
   "id": "3ae1df4c",
   "metadata": {},
   "outputs": [
    {
     "name": "stdout",
     "output_type": "stream",
     "text": [
      "<div class=\"job_seen_beacon\"><table cellpadding=\"0\" cellspacing=\"0\" class=\"jobCard_mainContent big6_visualChanges\" role=\"presentation\"><tbody><tr><td class=\"resultContent\"><div class=\"heading4 color-text-primary singleLineTitle tapItem-gutter\"><h2 class=\"jobTitle jobTitle-color-purple jobTitle-newJob\"><div class=\"new topLeft holisticNewBlue desktop\"><span class=\"label\">new</span></div><span title=\"Marine Interdiction Agent CBP LIVE Recruitment Webinar January 12, 2022\">Marine Interdiction Agent CBP LIVE Recruitment Webinar Janua...</span></h2></div><div class=\"heading6 company_location tapItem-gutter\"><pre><span class=\"companyName\">U.S. Customs and Border Protection</span><div class=\"companyLocation\">California</div></pre></div><div class=\"heading6 tapItem-gutter metadataContainer noJEMChips salaryOnly\"><div class=\"metadata salary-snippet-container\"><div class=\"attribute_snippet\"><svg aria-hidden=\"true\" aria-label=\"Salary\" fill=\"none\" role=\"presentation\" viewbox=\"0 0 16 13\" xmlns=\"http://www.w3.org/2000/svg\"><defs></defs><path clip-rule=\"evenodd\" d=\"M2.45168 6.10292c-.30177-.125-.62509-.18964-.95168-.1903V4.08678c.32693-.00053.6506-.06518.95267-.1903.30331-.12564.57891-.30979.81105-.54193.23215-.23215.4163-.50775.54194-.81106.12524-.30237.18989-.62638.19029-.95365H9.0902c0 .3283.06466.65339.1903.9567.12564.30331.30978.57891.54193.81106.23217.23215.50777.41629.81107.54193.3032.12558.6281.19024.9562.1903v1.83556c-.3242.00155-.6451.06616-.9448.19028-.3033.12563-.5789.30978-.81102.54193-.23215.23214-.4163.50774-.54193.81106-.12332.2977-.18789.61638-.19024.93849H3.99496c-.00071-.32645-.06535-.64961-.19029-.95124-.12564-.30332-.30979-.57891-.54193-.81106-.23215-.23215-.50775-.4163-.81106-.54193zM0 .589843C0 .313701.223858.0898438.5.0898438h12.0897c.2762 0 .5.2238572.5.5000002V9.40715c0 .27614-.2238.5-.5.5H.5c-.276143 0-.5-.22386-.5-.5V.589843zM6.54427 6.99849c1.10457 0 2-.89543 2-2s-.89543-2-2-2-2 .89543-2 2 .89543 2 2 2zm8.05523-2.69917v7.10958H2.75977c-.27615 0-.5.2238-.5.5v.5c0 .2761.22385.5.5.5H15.422c.4419 0 .6775-.2211.6775-.6629V4.29932c0-.27615-.2239-.5-.5-.5h-.5c-.2761 0-.5.22385-.5.5z\" fill=\"#595959\" fill-rule=\"evenodd\"></path></svg>$56,551 - $72,970 a year</div></div><div class=\"metadata\"><div class=\"attribute_snippet\"><svg aria-hidden=\"true\" aria-label=\"Job type\" fill=\"none\" height=\"13\" role=\"presentation\" viewbox=\"0 0 14 13\" width=\"14\" xmlns=\"http://www.w3.org/2000/svg\"><path clip-rule=\"evenodd\" d=\"M4.50226.5c-.27614 0-.5.223858-.5.5v2.1H.5c-.276142 0-.5.22386-.5.5v1.9h14V3.6c0-.27614-.2239-.5-.5-.5h-3.4977V1c0-.276142-.22389-.5-.50004-.5h-5Zm4.19962 2.6H5.30344V1.8h3.39844v1.3Z\" fill=\"#595959\" fill-rule=\"evenodd\"></path><path d=\"M5.70117 6.80005H0v5.20005c0 .2761.223857.5.5.5h13c.2761 0 .5-.2239.5-.5V6.80005H8.30117v.80322c0 .27614-.22386.5-.5.5h-1.6c-.27614 0-.5-.22386-.5-.5v-.80322Z\" fill=\"#595959\"></path></svg>Full-time</div></div><div class=\"metadata\"><div class=\"attribute_snippet\"><svg aria-hidden=\"true\" aria-label=\"Shift\" fill=\"none\" height=\"15px\" role=\"presentation\" viewbox=\"0 0 14 15\" xmlns=\"http://www.w3.org/2000/svg\"><path clip-rule=\"evenodd\" d=\"M7 14.5C10.866 14.5 14 11.366 14 7.5C14 3.63401 10.866 0.5 7 0.5C3.13401 0.5 0 3.63401 0 7.5C0 11.366 3.13401 14.5 7 14.5ZM6.2496 4.25C6.2496 4.11193 6.36153 4 6.4996 4H7.2996C7.43767 4 7.5496 4.11193 7.5496 4.25V7.62406L9.62708 8.82349C9.74665 8.89252 9.78762 9.04542 9.71858 9.16499L9.31858 9.85781C9.24955 9.97739 9.09665 10.0184 8.97708 9.94932L6.25028 8.375H6.2496V8.37461L6.24805 8.37371L6.2496 8.37102V4.25Z\" fill=\"#595959\" fill-rule=\"evenodd\"></path></svg>8 hour shift</div></div></div><div class=\"heading6 error-text tapItem-gutter\"></div></td></tr></tbody></table><table class=\"jobCardShelfContainer big6_visualChanges\" role=\"presentation\"><tbody><tr class=\"jobCardShelf\"></tr><tr class=\"underShelfFooter\"><td><div class=\"heading6 tapItem-gutter result-footer\"><div class=\"job-snippet\"><ul style=\"list-style-type:circle;margin-top: 0px;margin-bottom: 0px;padding-left:20px;\">\n",
      "<li>U. S Customs and Border Protection (CBP), a component of the Department of Homeland Security (DHS), is one of the world's largest law enforcement organizations…</li>\n",
      "</ul></div><span class=\"date\"><span class=\"visually-hidden\">Posted</span>4 days ago</span></div></td></tr></tbody></table><div aria-live=\"polite\"></div></div>\n"
     ]
    }
   ],
   "source": [
    "print(card)"
   ]
  },
  {
   "cell_type": "code",
   "execution_count": 11,
   "id": "012978a8",
   "metadata": {},
   "outputs": [
    {
     "name": "stdout",
     "output_type": "stream",
     "text": [
      "newMarine Interdiction Agent CBP LIVE Recruitment Webinar Janua...\n"
     ]
    }
   ],
   "source": [
    "job_title = card.find('h2', 'jobTitle').text.strip()\n",
    "print(job_title)"
   ]
  },
  {
   "cell_type": "code",
   "execution_count": 12,
   "id": "14370704",
   "metadata": {},
   "outputs": [
    {
     "name": "stdout",
     "output_type": "stream",
     "text": [
      "U.S. Customs and Border Protection\n"
     ]
    }
   ],
   "source": [
    "company = card.find('span', 'companyName').text.strip()\n",
    "print(company)"
   ]
  },
  {
   "cell_type": "code",
   "execution_count": 13,
   "id": "f5ee0541",
   "metadata": {},
   "outputs": [
    {
     "name": "stdout",
     "output_type": "stream",
     "text": [
      "California\n"
     ]
    }
   ],
   "source": [
    "location = card.find('div', 'companyLocation').text.strip()\n",
    "print(location)"
   ]
  },
  {
   "cell_type": "code",
   "execution_count": 14,
   "id": "525b9513",
   "metadata": {},
   "outputs": [
    {
     "name": "stdout",
     "output_type": "stream",
     "text": [
      "U. S Customs and Border Protection (CBP), a component of the Department of Homeland Security (DHS), is one of the world's largest law enforcement organizations…\n"
     ]
    }
   ],
   "source": [
    "summary = card.find('div', 'job-snippet').text.strip()\n",
    "print(summary)"
   ]
  },
  {
   "cell_type": "code",
   "execution_count": 15,
   "id": "0b692a60",
   "metadata": {},
   "outputs": [
    {
     "name": "stdout",
     "output_type": "stream",
     "text": [
      "Posted4 days ago\n"
     ]
    }
   ],
   "source": [
    "post_date = card.find('span', 'date').text\n",
    "print(post_date)"
   ]
  },
  {
   "cell_type": "code",
   "execution_count": 16,
   "id": "5a309d36",
   "metadata": {},
   "outputs": [
    {
     "data": {
      "text/plain": [
       "'22-01-10'"
      ]
     },
     "execution_count": 16,
     "metadata": {},
     "output_type": "execute_result"
    }
   ],
   "source": [
    "datetime.today().strftime('%y-%m-%d')"
   ]
  },
  {
   "cell_type": "code",
   "execution_count": 21,
   "id": "a58e92b0",
   "metadata": {},
   "outputs": [
    {
     "name": "stdout",
     "output_type": "stream",
     "text": [
      "$56,551 - $72,970 a year\n"
     ]
    }
   ],
   "source": [
    "salary_tag = card.find('div', 'metadata salary-snippet-container')\n",
    "if salary_tag:\n",
    "    salary = salary_tag.text.strip()\n",
    "else:\n",
    "    salary = 'None'\n",
    "    \n",
    "print(salary)"
   ]
  },
  {
   "cell_type": "code",
   "execution_count": 53,
   "id": "5ffedbea",
   "metadata": {},
   "outputs": [],
   "source": [
    "# job_type = soup.find('div', {'aria-label': 'Job type'})\n",
    "# print(job_type)"
   ]
  },
  {
   "cell_type": "code",
   "execution_count": 52,
   "id": "35ce5335",
   "metadata": {},
   "outputs": [],
   "source": [
    "# job_url = soup.find('a', 'vjs-highlight')('href')\n",
    "# print(job_url)"
   ]
  },
  {
   "cell_type": "code",
   "execution_count": 23,
   "id": "906fe7d6",
   "metadata": {
    "collapsed": true
   },
   "outputs": [],
   "source": [
    "def get_record(card):\n",
    "    job_title = card.find('h2', 'jobTitle').text.strip()\n",
    "    company = card.find('span', 'companyName').text.strip()\n",
    "    location = card.find('div', 'companyLocation').text.strip()\n",
    "    summary = card.find('div', 'job-snippet').text.strip()\n",
    "    post_date = card.find('span', 'date').text.strip()\n",
    "    today = datetime.today().strftime('%y-%m-%d')\n",
    "    \n",
    "    salary_tag = card.find('div', 'metadata salary-snippet-container')\n",
    "    if salary_tag:\n",
    "        salary = salary_tag.text.strip()\n",
    "    else:\n",
    "        salary = 'None'\n",
    "        \n",
    "#     job_url = 'https://www.indeed.com' + card.a.get('href')\n",
    "        \n",
    "    record = (job_title, company, location, summary, post_date, today, salary)\n",
    "    \n",
    "    return record\n",
    "\n",
    "    "
   ]
  },
  {
   "cell_type": "code",
   "execution_count": null,
   "id": "9a283fa4",
   "metadata": {},
   "outputs": [],
   "source": []
  },
  {
   "cell_type": "code",
   "execution_count": 24,
   "id": "5c57ab46",
   "metadata": {},
   "outputs": [],
   "source": [
    "records = []\n",
    "\n",
    "for card in cards:\n",
    "    record = get_record(card)\n",
    "    records.append(record)"
   ]
  },
  {
   "cell_type": "code",
   "execution_count": 25,
   "id": "3c45ac31",
   "metadata": {},
   "outputs": [
    {
     "data": {
      "text/plain": [
       "('Part-time Guest Services Representative',\n",
       " 'Catalina Island Conservancy',\n",
       " 'Santa Catalina Island, CA+1 location•Remote',\n",
       " 'Answer and direct calls not handled by auto attend system, including internal calls.\\nMemorable experience for each and every person who calls or visits a…',\n",
       " 'Posted30+ days ago',\n",
       " '22-01-10',\n",
       " 'None')"
      ]
     },
     "execution_count": 25,
     "metadata": {},
     "output_type": "execute_result"
    }
   ],
   "source": [
    "records[14]"
   ]
  },
  {
   "cell_type": "code",
   "execution_count": 26,
   "id": "a07ef353",
   "metadata": {},
   "outputs": [],
   "source": [
    "while True:\n",
    "    try:\n",
    "        next_page = 'https://www.indeed.com' + soup.find('a', {'aria-label': 'Next'}).get('href')\n",
    "    except AttributeError:\n",
    "        break\n",
    "        \n",
    "    response = requests.get(url)\n",
    "    soup = BeautifulSoup(response.text, 'html.parser')\n",
    "    cards = soup.find_all('div', class_=\"slider_container\")\n",
    "    \n",
    "    for card in cards:\n",
    "        record = get_record(card)\n",
    "        records.append(record)"
   ]
  },
  {
   "cell_type": "code",
   "execution_count": 27,
   "id": "5a8b4f5d",
   "metadata": {},
   "outputs": [],
   "source": [
    "with open('updated_indeed_jobs.csv', 'w', newline='', encoding='utf-8') as f:\n",
    "    writer = csv.writer(f)\n",
    "    writer.writerow(['Title', 'Company', 'Location', 'Summary', 'Post_Date', 'Extracted_Date', 'Salary'])\n",
    "    writer.writerows(records)"
   ]
  },
  {
   "cell_type": "code",
   "execution_count": null,
   "id": "b27f3c3a",
   "metadata": {},
   "outputs": [],
   "source": []
  }
 ],
 "metadata": {
  "kernelspec": {
   "display_name": "Python 3",
   "language": "python",
   "name": "python3"
  },
  "language_info": {
   "codemirror_mode": {
    "name": "ipython",
    "version": 3
   },
   "file_extension": ".py",
   "mimetype": "text/x-python",
   "name": "python",
   "nbconvert_exporter": "python",
   "pygments_lexer": "ipython3",
   "version": "3.8.8"
  }
 },
 "nbformat": 4,
 "nbformat_minor": 5
}

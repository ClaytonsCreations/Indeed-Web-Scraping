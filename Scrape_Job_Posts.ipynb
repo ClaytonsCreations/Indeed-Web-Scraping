{
 "cells": [
  {
   "cell_type": "code",
   "execution_count": 51,
   "id": "8a38eed5",
   "metadata": {},
   "outputs": [],
   "source": [
    "import csv\n",
    "from datetime import datetime\n",
    "import requests\n",
    "from bs4 import BeautifulSoup\n",
    "import random \n",
    "from collections import OrderedDict"
   ]
  },
  {
   "cell_type": "code",
   "execution_count": 54,
   "id": "96423fb2",
   "metadata": {},
   "outputs": [],
   "source": [
    "# creating URL base\n",
    "def get_url (location):\n",
    "    template = 'https://www.indeed.com/jobs?q&l={}'\n",
    "    url = template.format(location)\n",
    "    return url"
   ]
  },
  {
   "cell_type": "code",
   "execution_count": 55,
   "id": "b7ccdf6f",
   "metadata": {},
   "outputs": [
    {
     "name": "stdout",
     "output_type": "stream",
     "text": [
      "https://www.indeed.com/jobs?q&l=catalina+island\n"
     ]
    }
   ],
   "source": [
    "# adding search criteria to URL\n",
    "url = get_url(\"catalina+island\")\n",
    "print(url)"
   ]
  },
  {
   "cell_type": "code",
   "execution_count": 60,
   "id": "41463374",
   "metadata": {},
   "outputs": [
    {
     "data": {
      "text/plain": [
       "<Response [200]>"
      ]
     },
     "execution_count": 60,
     "metadata": {},
     "output_type": "execute_result"
    }
   ],
   "source": [
    "# connecting to website and checking for connection\n",
    "response = requests.get(url)\n",
    "response"
   ]
  },
  {
   "cell_type": "code",
   "execution_count": 61,
   "id": "39980fc8",
   "metadata": {},
   "outputs": [],
   "source": [
    "# pulling html from website\n",
    "soup = BeautifulSoup(response.text, 'html.parser')"
   ]
  },
  {
   "cell_type": "code",
   "execution_count": 62,
   "id": "1968aee4",
   "metadata": {},
   "outputs": [
    {
     "name": "stdout",
     "output_type": "stream",
     "text": [
      "<html>\n",
      "<head>\n",
      "<title>hCaptcha solve page</title>\n",
      "<script async=\"\" defer=\"\" src=\"https://www.hcaptcha.com/1/api.js\"></script>\n",
      "</head>\n",
      "<body>\n",
      "<form action=\"/jobs?l=catalina+island\" method=\"POST\">\n",
      "<div class=\"h-captcha\" data-sitekey=\"eb27f525-f936-43b4-91e2-95a426d4a8bd\"></div>\n",
      "<br/>\n",
      "<input type=\"submit\" value=\"Submit\"/>\n",
      "</form>\n",
      "</body>\n",
      "</html>\n",
      "\n"
     ]
    }
   ],
   "source": [
    "print(soup)"
   ]
  },
  {
   "cell_type": "code",
   "execution_count": 41,
   "id": "bf277a8d",
   "metadata": {},
   "outputs": [],
   "source": [
    "# identifying the top level that includes data wanted\n",
    "cards = soup.find_all('div', 'job_seen_beacon')"
   ]
  },
  {
   "cell_type": "code",
   "execution_count": 42,
   "id": "964b38a8",
   "metadata": {},
   "outputs": [
    {
     "data": {
      "text/plain": [
       "0"
      ]
     },
     "execution_count": 42,
     "metadata": {},
     "output_type": "execute_result"
    }
   ],
   "source": [
    "# confirming length of results is equal to the length\n",
    "len(cards)"
   ]
  },
  {
   "cell_type": "code",
   "execution_count": null,
   "id": "8962398b",
   "metadata": {},
   "outputs": [],
   "source": [
    "# pulling 1 card record to test results\n",
    "card = cards[4]"
   ]
  },
  {
   "cell_type": "code",
   "execution_count": null,
   "id": "3ae1df4c",
   "metadata": {},
   "outputs": [],
   "source": [
    "print(card)"
   ]
  },
  {
   "cell_type": "code",
   "execution_count": null,
   "id": "012978a8",
   "metadata": {},
   "outputs": [],
   "source": [
    "# pulling job title\n",
    "job_title = card.find('h2', 'jobTitle').text.strip()\n",
    "print(job_title)"
   ]
  },
  {
   "cell_type": "code",
   "execution_count": null,
   "id": "14370704",
   "metadata": {},
   "outputs": [],
   "source": [
    "# getting company name\n",
    "company = card.find('span', 'companyName').text.strip()\n",
    "print(company)"
   ]
  },
  {
   "cell_type": "code",
   "execution_count": null,
   "id": "f5ee0541",
   "metadata": {},
   "outputs": [],
   "source": [
    "# pulling location of business\n",
    "location = card.find('div', 'companyLocation').text.strip()\n",
    "print(location)"
   ]
  },
  {
   "cell_type": "code",
   "execution_count": null,
   "id": "525b9513",
   "metadata": {},
   "outputs": [],
   "source": [
    "# pulling job summary\n",
    "summary = card.find('div', 'job-snippet').text.strip()\n",
    "print(summary)"
   ]
  },
  {
   "cell_type": "code",
   "execution_count": null,
   "id": "0b692a60",
   "metadata": {},
   "outputs": [],
   "source": [
    "# getting date job was posted\n",
    "post_date = card.find('span', 'date').text\n",
    "print(post_date)"
   ]
  },
  {
   "cell_type": "code",
   "execution_count": null,
   "id": "5a309d36",
   "metadata": {
    "scrolled": true
   },
   "outputs": [],
   "source": [
    "# using todays date to use a reference of when data was pulled\n",
    "datetime.today().strftime('%y-%m-%d')"
   ]
  },
  {
   "cell_type": "code",
   "execution_count": null,
   "id": "a58e92b0",
   "metadata": {},
   "outputs": [],
   "source": [
    "# getting salary information, since many don't have any, if there isn't a value it will be none instead\n",
    "salary_tag = card.find('div', 'metadata salary-snippet-container')\n",
    "if salary_tag:\n",
    "    salary = salary_tag.text.strip()\n",
    "else:\n",
    "    salary = 'None'\n",
    "    \n",
    "print(salary)"
   ]
  },
  {
   "cell_type": "code",
   "execution_count": null,
   "id": "5ffedbea",
   "metadata": {},
   "outputs": [],
   "source": [
    "# attempted to get job type, unsuccessful\n",
    "# job_type = soup.find('div', 'metadata')\n",
    "# job_type = job_type.text.strip()\n",
    "# print(job_type)"
   ]
  },
  {
   "cell_type": "code",
   "execution_count": null,
   "id": "35ce5335",
   "metadata": {},
   "outputs": [],
   "source": [
    "# attempted to get job url, unsuccessful\n",
    "# job_url = soup.find('a', 'vjs-highlight')('href')\n",
    "# print(job_url)"
   ]
  },
  {
   "cell_type": "code",
   "execution_count": null,
   "id": "906fe7d6",
   "metadata": {},
   "outputs": [],
   "source": [
    "# pulling all the data into 1 record\n",
    "def get_record(card):\n",
    "    job_title = card.find('h2', 'jobTitle').text.strip()\n",
    "    company = card.find('span', 'companyName').text.strip()\n",
    "    location = card.find('div', 'companyLocation').text.strip()\n",
    "    summary = card.find('div', 'job-snippet').text.strip()\n",
    "    post_date = card.find('span', 'date').text.strip()\n",
    "    today = datetime.today().strftime('%y-%m-%d')\n",
    "    \n",
    "    salary_tag = card.find('div', 'metadata salary-snippet-container')\n",
    "    if salary_tag:\n",
    "        salary = salary_tag.text.strip()\n",
    "    else:\n",
    "        salary = 'None'\n",
    "        \n",
    "    record = (job_title, company, location, summary, post_date, today, salary)\n",
    "    \n",
    "    return record\n",
    "\n",
    "    "
   ]
  },
  {
   "cell_type": "code",
   "execution_count": null,
   "id": "5c57ab46",
   "metadata": {},
   "outputs": [],
   "source": [
    "# creating dictionary to hold all the records\n",
    "records = []\n",
    "\n",
    "for card in cards:\n",
    "    record = get_record(card)\n",
    "    records.append(record)"
   ]
  },
  {
   "cell_type": "code",
   "execution_count": null,
   "id": "3c45ac31",
   "metadata": {},
   "outputs": [],
   "source": [
    "# checking the records look correct\n",
    "records[14]"
   ]
  },
  {
   "cell_type": "code",
   "execution_count": null,
   "id": "a07ef353",
   "metadata": {},
   "outputs": [],
   "source": [
    "# going to the next page to get all job posting results\n",
    "while True:\n",
    "    try:\n",
    "        next_page = 'https://www.indeed.com' + soup.find('a', {'aria-label': 'Next'}).get('href')\n",
    "    except AttributeError:\n",
    "        break\n",
    "        \n",
    "    response = requests.get(url)\n",
    "    soup = BeautifulSoup(response.text, 'html.parser')\n",
    "    cards = soup.find_all('div', class_=\"slider_container\")\n",
    "    \n",
    "    for card in cards:\n",
    "        record = get_record(card)\n",
    "        records.append(record)"
   ]
  },
  {
   "cell_type": "code",
   "execution_count": null,
   "id": "5a8b4f5d",
   "metadata": {},
   "outputs": [],
   "source": [
    "# exporting data to csv file for use in SQL\n",
    "with open('indeed_jobs.csv', 'w', newline='', encoding='utf-8') as f:\n",
    "    writer = csv.writer(f)\n",
    "    writer.writerow(['Title', 'Company', 'Location', 'Summary', 'Post_Date', 'Extracted_Date', 'Salary'])\n",
    "    writer.writerows(records)"
   ]
  }
 ],
 "metadata": {
  "kernelspec": {
   "display_name": "Python 3",
   "language": "python",
   "name": "python3"
  },
  "language_info": {
   "codemirror_mode": {
    "name": "ipython",
    "version": 3
   },
   "file_extension": ".py",
   "mimetype": "text/x-python",
   "name": "python",
   "nbconvert_exporter": "python",
   "pygments_lexer": "ipython3",
   "version": "3.8.8"
  }
 },
 "nbformat": 4,
 "nbformat_minor": 5
}
